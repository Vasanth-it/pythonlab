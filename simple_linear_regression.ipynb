{
  "nbformat": 4,
  "nbformat_minor": 0,
  "metadata": {
    "colab": {
      "name": "simple linear regression.ipynb",
      "provenance": [],
      "mount_file_id": "1VLqqT5mmiFTUjhb0GVEnfOOk77LmV6uP",
      "authorship_tag": "ABX9TyOJW1Ms7jzef/6rQ8GUJJGl"
    },
    "kernelspec": {
      "name": "python3",
      "display_name": "Python 3"
    },
    "language_info": {
      "name": "python"
    }
  },
  "cells": [
    {
      "cell_type": "markdown",
      "source": [
        "Simple Linear Regression about hrs of study and test scores.\n"
      ],
      "metadata": {
        "id": "LZfHJ_dx54kA"
      }
    },
    {
      "cell_type": "code",
      "execution_count": null,
      "metadata": {
        "id": "3E_Cu32f3peS"
      },
      "outputs": [],
      "source": [
        "%matplotlib inline\n",
        "from numpy import *\n",
        "import matplotlib.pyplot as plt"
      ]
    },
    {
      "cell_type": "code",
      "source": [
        "points = genfromtxt('/content/drive/MyDrive/Colab Notebooks/datasets/studyhrs.csv', delimiter=',')\n",
        "\n",
        "#Extract columns\n",
        "x = array(points[:,0])\n",
        "y = array(points[:,1])\n",
        "\n",
        "#Plot the dataset\n",
        "plt.scatter(x,y)\n",
        "plt.xlabel('Hours of study')\n",
        "plt.ylabel('Test scores')\n",
        "plt.title('Dataset')\n",
        "plt.show()"
      ],
      "metadata": {
        "colab": {
          "base_uri": "https://localhost:8080/",
          "height": 295
        },
        "id": "fE9dlYyU4Tx6",
        "outputId": "03c394d0-d639-459e-b57a-a64903a078a7"
      },
      "execution_count": null,
      "outputs": [
        {
          "output_type": "display_data",
          "data": {
            "image/png": "[encoded data removed]",
            "text/plain": [
              "<Figure size 432x288 with 1 Axes>"
            ]
          },
          "metadata": {
            "needs_background": "light"
          }
        }
      ]
    },
    {
      "cell_type": "code",
      "source": [
        "learning_rate = 0.0001\n",
        "initial_b = 0\n",
        "initial_m = 0\n",
        "num_iterations = 10"
      ],
      "metadata": {
        "id": "sGOu115w5T0F"
      },
      "execution_count": null,
      "outputs": []
    },
    {
      "cell_type": "code",
      "source": [
        "def compute_cost(b, m, points):\n",
        "    total_cost = 0\n",
        "    N = float(len(points))\n",
        "    \n",
        "    #Compute sum of squared errors\n",
        "    for i in range(0, len(points)):\n",
        "        x = points[i, 0]\n",
        "        y = points[i, 1]\n",
        "        total_cost += (y - (m * x + b)) ** 2\n",
        "        \n",
        "    #Return average of squared error\n",
        "    return total_cost/N"
      ],
      "metadata": {
        "id": "aQIwb_4F5YCR"
      },
      "execution_count": null,
      "outputs": []
    },
    {
      "cell_type": "code",
      "source": [
        "def gradient_descent_runner(points, starting_b, starting_m, learning_rate, num_iterations):\n",
        "    b = starting_b\n",
        "    m = starting_m\n",
        "    cost_graph = []\n",
        "\n",
        "    #For every iteration, optimize b, m and compute its cost\n",
        "    for i in range(num_iterations):\n",
        "        cost_graph.append(compute_cost(b, m, points))\n",
        "        b, m = step_gradient(b, m, array(points), learning_rate)\n",
        "\n",
        "    return [b, m, cost_graph]\n",
        "\n",
        "def step_gradient(b_current, m_current, points, learning_rate):\n",
        "    m_gradient = 0\n",
        "    b_gradient = 0\n",
        "    N = float(len(points))\n",
        "\n",
        "    #Calculate Gradient\n",
        "    for i in range(0, len(points)):\n",
        "        x = points[i, 0]\n",
        "        y = points[i, 1]\n",
        "        m_gradient += - (2/N) * x * (y - (m_current * x + b_current))\n",
        "        b_gradient += - (2/N) * (y - (m_current * x + b_current))\n",
        "    \n",
        "    #Update current m and b\n",
        "    m_updated = m_current - learning_rate * m_gradient\n",
        "    b_updated = b_current - learning_rate * b_gradient\n",
        "\n",
        "    #Return updated parameters\n",
        "    return b_updated, m_updated"
      ],
      "metadata": {
        "id": "w-HsTn0q5dGA"
      },
      "execution_count": null,
      "outputs": []
    },
    {
      "cell_type": "code",
      "source": [
        "b, m, cost_graph = gradient_descent_runner(points, initial_b, initial_m, learning_rate, num_iterations)\n",
        "\n",
        "#Print optimized parameters\n",
        "print ('Optimized b:', b)\n",
        "print ('Optimized m:', m)\n",
        "\n",
        "#Print error with optimized parameters\n",
        "print ('Minimized cost:', compute_cost(b, m, points))"
      ],
      "metadata": {
        "colab": {
          "base_uri": "https://localhost:8080/"
        },
        "id": "wuu11DBd5iJk",
        "outputId": "02d2aa43-b425-4ee1-ea2b-8f696c684321"
      },
      "execution_count": null,
      "outputs": [
        {
          "output_type": "stream",
          "name": "stdout",
          "text": [
            "Optimized b: 0.02963934787473239\n",
            "Optimized m: 1.4774173755483797\n",
            "Minimized cost: 112.65585181499746\n"
          ]
        }
      ]
    },
    {
      "cell_type": "code",
      "source": [
        "plt.plot(cost_graph)\n",
        "plt.xlabel('No. of iterations')\n",
        "plt.ylabel('Cost')\n",
        "plt.title('Cost per iteration')\n",
        "plt.show()\n"
      ],
      "metadata": {
        "colab": {
          "base_uri": "https://localhost:8080/",
          "height": 295
        },
        "id": "dAuWULNz5l7e",
        "outputId": "0414c862-2758-43e8-c7bb-44cad3a1df01"
      },
      "execution_count": null,
      "outputs": [
        {
          "output_type": "display_data",
          "data": {
            "image/png": "[encoded data removed]",
            "text/plain": [
              "<Figure size 432x288 with 1 Axes>"
            ]
          },
          "metadata": {
            "needs_background": "light"
          }
        }
      ]
    },
    {
      "cell_type": "code",
      "source": [
        "#Plot dataset\n",
        "plt.scatter(x, y)\n",
        "#Predict y values\n",
        "pred = m * x + b\n",
        "#Plot predictions as line of best fit\n",
        "plt.plot(x, pred, c='r')\n",
        "plt.xlabel('Hours of study')\n",
        "plt.ylabel('Test scores')\n",
        "plt.title('Line of best fit')\n",
        "plt.show()"
      ],
      "metadata": {
        "colab": {
          "base_uri": "https://localhost:8080/",
          "height": 295
        },
        "id": "WrijCv0K5p2e",
        "outputId": "d8371bb8-b670-4a23-b1e3-27b8c2e02ca5"
      },
      "execution_count": null,
      "outputs": [
        {
          "output_type": "display_data",
          "data": {
            "image/png": "[encoded data removed]",
            "text/plain": [
              "<Figure size 432x288 with 1 Axes>"
            ]
          },
          "metadata": {
            "needs_background": "light"
          }
        }
      ]
    },
    {
      "cell_type": "markdown",
      "source": [
        "Boston house prediction"
      ],
      "metadata": {
        "id": "MYlZRqRK6yOC"
      }
    },
    {
      "cell_type": "code",
      "source": [
        "from sklearn.datasets import load_boston\n",
        "boston=load_boston()\n",
        "print(boston.data.shape)"
      ],
      "metadata": {
        "colab": {
          "base_uri": "https://localhost:8080/"
        },
        "id": "kYwdI4Gg62T6",
        "outputId": "7d7afac6-5426-4989-8821-750afd348715"
      },
      "execution_count": null,
      "outputs": [
        {
          "output_type": "stream",
          "name": "stdout",
          "text": [
            "(506, 13)\n"
          ]
        },
        {
          "output_type": "stream",
          "name": "stderr",
          "text": [
            "/usr/local/lib/python3.7/dist-packages/sklearn/utils/deprecation.py:87: FutureWarning: Function load_boston is deprecated; `load_boston` is deprecated in 1.0 and will be removed in 1.2.\n",
            "\n",
            "    The Boston housing prices dataset has an ethical problem. You can refer to\n",
            "    the documentation of this function for further details.\n",
            "\n",
            "    The scikit-learn maintainers therefore strongly discourage the use of this\n",
            "    dataset unless the purpose of the code is to study and educate about\n",
            "    ethical issues in data science and machine learning.\n",
            "\n",
            "    In this special case, you can fetch the dataset from the original\n",
            "    source::\n",
            "\n",
            "        import pandas as pd\n",
            "        import numpy as np\n",
            "\n",
            "\n",
            "        data_url = \"http://lib.stat.cmu.edu/datasets/boston\"\n",
            "        raw_df = pd.read_csv(data_url, sep=\"\\s+\", skiprows=22, header=None)\n",
            "        data = np.hstack([raw_df.values[::2, :], raw_df.values[1::2, :2]])\n",
            "        target = raw_df.values[1::2, 2]\n",
            "\n",
            "    Alternative datasets include the California housing dataset (i.e.\n",
            "    :func:`~sklearn.datasets.fetch_california_housing`) and the Ames housing\n",
            "    dataset. You can load the datasets as follows::\n",
            "\n",
            "        from sklearn.datasets import fetch_california_housing\n",
            "        housing = fetch_california_housing()\n",
            "\n",
            "    for the California housing dataset and::\n",
            "\n",
            "        from sklearn.datasets import fetch_openml\n",
            "        housing = fetch_openml(name=\"house_prices\", as_frame=True)\n",
            "\n",
            "    for the Ames housing dataset.\n",
            "    \n",
            "  warnings.warn(msg, category=FutureWarning)\n"
          ]
        }
      ]
    },
    {
      "cell_type": "code",
      "source": [
        "print(boston.DESCR)"
      ],
      "metadata": {
        "colab": {
          "base_uri": "https://localhost:8080/"
        },
        "id": "Cx7tRgoD67XQ",
        "outputId": "07a849c8-d3a3-4937-ff3f-742a1fd3ab59"
      },
      "execution_count": null,
      "outputs": [
        {
          "output_type": "stream",
          "name": "stdout",
          "text": [
            ".. _boston_dataset:\n",
            "\n",
            "Boston house prices dataset\n",
            "---------------------------\n",
            "\n",
            "**Data Set Characteristics:**  \n",
            "\n",
            "    :Number of Instances: 506 \n",
            "\n",
            "    :Number of Attributes: 13 numeric/categorical predictive. Median Value (attribute 14) is usually the target.\n",
            "\n",
            "    :Attribute Information (in order):\n",
            "        - CRIM     per capita crime rate by town\n",
            "        - ZN       proportion of residential land zoned for lots over 25,000 sq.ft.\n",
            "        - INDUS    proportion of non-retail business acres per town\n",
            "        - CHAS     Charles River dummy variable (= 1 if tract bounds river; 0 otherwise)\n",
            "        - NOX      nitric oxides concentration (parts per 10 million)\n",
            "        - RM       average number of rooms per dwelling\n",
            "        - AGE      proportion of owner-occupied units built prior to 1940\n",
            "        - DIS      weighted distances to five Boston employment centres\n",
            "        - RAD      index of accessibility to radial highways\n",
            "        - TAX      full-value property-tax rate per $10,000\n",
            "        - PTRATIO  pupil-teacher ratio by town\n",
            "        - B        1000(Bk - 0.63)^2 where Bk is the proportion of black people by town\n",
            "        - LSTAT    % lower status of the population\n",
            "        - MEDV     Median value of owner-occupied homes in $1000's\n",
            "\n",
            "    :Missing Attribute Values: None\n",
            "\n",
            "    :Creator: Harrison, D. and Rubinfeld, D.L.\n",
            "\n",
            "This is a copy of UCI ML housing dataset.\n",
            "https://archive.ics.uci.edu/ml/machine-learning-databases/housing/\n",
            "\n",
            "\n",
            "This dataset was taken from the StatLib library which is maintained at Carnegie Mellon University.\n",
            "\n",
            "The Boston house-price data of Harrison, D. and Rubinfeld, D.L. 'Hedonic\n",
            "prices and the demand for clean air', J. Environ. Economics & Management,\n",
            "vol.5, 81-102, 1978.   Used in Belsley, Kuh & Welsch, 'Regression diagnostics\n",
            "...', Wiley, 1980.   N.B. Various transformations are used in the table on\n",
            "pages 244-261 of the latter.\n",
            "\n",
            "The Boston house-price data has been used in many machine learning papers that address regression\n",
            "problems.   \n",
            "     \n",
            ".. topic:: References\n",
            "\n",
            "   - Belsley, Kuh & Welsch, 'Regression diagnostics: Identifying Influential Data and Sources of Collinearity', Wiley, 1980. 244-261.\n",
            "   - Quinlan,R. (1993). Combining Instance-Based and Model-Based Learning. In Proceedings on the Tenth International Conference of Machine Learning, 236-243, University of Massachusetts, Amherst. Morgan Kaufmann.\n",
            "\n"
          ]
        }
      ]
    },
    {
      "cell_type": "code",
      "source": [
        "print(boston.keys())"
      ],
      "metadata": {
        "colab": {
          "base_uri": "https://localhost:8080/"
        },
        "id": "zCrV-jvT7AZK",
        "outputId": "156b6a82-2a09-4226-bc23-a1a5b0cf0733"
      },
      "execution_count": null,
      "outputs": [
        {
          "output_type": "stream",
          "name": "stdout",
          "text": [
            "dict_keys(['data', 'target', 'feature_names', 'DESCR', 'filename', 'data_module'])\n"
          ]
        }
      ]
    },
    {
      "cell_type": "code",
      "source": [
        "print(boston.feature_names) #if wanted to get wanted datails"
      ],
      "metadata": {
        "colab": {
          "base_uri": "https://localhost:8080/"
        },
        "id": "sHIQZRVK7ERd",
        "outputId": "9b5a573f-f166-4aba-de9d-7047a7e611c1"
      },
      "execution_count": null,
      "outputs": [
        {
          "output_type": "stream",
          "name": "stdout",
          "text": [
            "['CRIM' 'ZN' 'INDUS' 'CHAS' 'NOX' 'RM' 'AGE' 'DIS' 'RAD' 'TAX' 'PTRATIO'\n",
            " 'B' 'LSTAT']\n"
          ]
        }
      ]
    },
    {
      "cell_type": "code",
      "source": [
        "import pandas as pd\n",
        "bos=pd.DataFrame(boston.data)\n",
        "print(bos)"
      ],
      "metadata": {
        "colab": {
          "base_uri": "https://localhost:8080/"
        },
        "id": "mVc5KslX7JCH",
        "outputId": "ce6ee1de-6e01-43c1-8ff1-c847eeb81139"
      },
      "execution_count": null,
      "outputs": [
        {
          "output_type": "stream",
          "name": "stdout",
          "text": [
            "          0     1      2    3      4   ...   8      9     10      11    12\n",
            "0    0.00632  18.0   2.31  0.0  0.538  ...  1.0  296.0  15.3  396.90  4.98\n",
            "1    0.02731   0.0   7.07  0.0  0.469  ...  2.0  242.0  17.8  396.90  9.14\n",
            "2    0.02729   0.0   7.07  0.0  0.469  ...  2.0  242.0  17.8  392.83  4.03\n",
            "3    0.03237   0.0   2.18  0.0  0.458  ...  3.0  222.0  18.7  394.63  2.94\n",
            "4    0.06905   0.0   2.18  0.0  0.458  ...  3.0  222.0  18.7  396.90  5.33\n",
            "..       ...   ...    ...  ...    ...  ...  ...    ...   ...     ...   ...\n",
            "501  0.06263   0.0  11.93  0.0  0.573  ...  1.0  273.0  21.0  391.99  9.67\n",
            "502  0.04527   0.0  11.93  0.0  0.573  ...  1.0  273.0  21.0  396.90  9.08\n",
            "503  0.06076   0.0  11.93  0.0  0.573  ...  1.0  273.0  21.0  396.90  5.64\n",
            "504  0.10959   0.0  11.93  0.0  0.573  ...  1.0  273.0  21.0  393.45  6.48\n",
            "505  0.04741   0.0  11.93  0.0  0.573  ...  1.0  273.0  21.0  396.90  7.88\n",
            "\n",
            "[506 rows x 13 columns]\n"
          ]
        }
      ]
    },
    {
      "cell_type": "code",
      "source": [
        "bos.columns=boston.feature_names\n",
        "print(bos.head())\n",
        "print(bos.columns)"
      ],
      "metadata": {
        "colab": {
          "base_uri": "https://localhost:8080/"
        },
        "id": "00geIsP_7S2a",
        "outputId": "5c164de0-36aa-47bb-aab7-4741557e1087"
      },
      "execution_count": null,
      "outputs": [
        {
          "output_type": "stream",
          "name": "stdout",
          "text": [
            "      CRIM    ZN  INDUS  CHAS    NOX  ...  RAD    TAX  PTRATIO       B  LSTAT\n",
            "0  0.00632  18.0   2.31   0.0  0.538  ...  1.0  296.0     15.3  396.90   4.98\n",
            "1  0.02731   0.0   7.07   0.0  0.469  ...  2.0  242.0     17.8  396.90   9.14\n",
            "2  0.02729   0.0   7.07   0.0  0.469  ...  2.0  242.0     17.8  392.83   4.03\n",
            "3  0.03237   0.0   2.18   0.0  0.458  ...  3.0  222.0     18.7  394.63   2.94\n",
            "4  0.06905   0.0   2.18   0.0  0.458  ...  3.0  222.0     18.7  396.90   5.33\n",
            "\n",
            "[5 rows x 13 columns]\n",
            "Index(['CRIM', 'ZN', 'INDUS', 'CHAS', 'NOX', 'RM', 'AGE', 'DIS', 'RAD', 'TAX',\n",
            "       'PTRATIO', 'B', 'LSTAT'],\n",
            "      dtype='object')\n"
          ]
        }
      ]
    },
    {
      "cell_type": "code",
      "source": [
        "print(bos.describe())"
      ],
      "metadata": {
        "colab": {
          "base_uri": "https://localhost:8080/"
        },
        "id": "OFngLCfg7eQ2",
        "outputId": "5866d7d7-33f6-4dc0-dfe5-f4f04d804890"
      },
      "execution_count": null,
      "outputs": [
        {
          "output_type": "stream",
          "name": "stdout",
          "text": [
            "             CRIM          ZN       INDUS  ...     PTRATIO           B       LSTAT\n",
            "count  506.000000  506.000000  506.000000  ...  506.000000  506.000000  506.000000\n",
            "mean     3.613524   11.363636   11.136779  ...   18.455534  356.674032   12.653063\n",
            "std      8.601545   23.322453    6.860353  ...    2.164946   91.294864    7.141062\n",
            "min      0.006320    0.000000    0.460000  ...   12.600000    0.320000    1.730000\n",
            "25%      0.082045    0.000000    5.190000  ...   17.400000  375.377500    6.950000\n",
            "50%      0.256510    0.000000    9.690000  ...   19.050000  391.440000   11.360000\n",
            "75%      3.677083   12.500000   18.100000  ...   20.200000  396.225000   16.955000\n",
            "max     88.976200  100.000000   27.740000  ...   22.000000  396.900000   37.970000\n",
            "\n",
            "[8 rows x 13 columns]\n"
          ]
        }
      ]
    },
    {
      "cell_type": "code",
      "source": [
        "bos['price']=boston.target  #13 input now 14 column is output\n",
        "bos.shape"
      ],
      "metadata": {
        "colab": {
          "base_uri": "https://localhost:8080/"
        },
        "id": "iILCJfQc7iSe",
        "outputId": "f7ba08ea-2b8d-4918-ef12-6c9ba97b143c"
      },
      "execution_count": null,
      "outputs": [
        {
          "output_type": "execute_result",
          "data": {
            "text/plain": [
              "(506, 14)"
            ]
          },
          "metadata": {},
          "execution_count": 19
        }
      ]
    },
    {
      "cell_type": "code",
      "source": [
        "x=bos.drop('price',axis=1)\n",
        "y=bos['price']\n",
        "print(x.shape)\n",
        "print(y.shape)\n",
        "print(bos.shape)"
      ],
      "metadata": {
        "colab": {
          "base_uri": "https://localhost:8080/"
        },
        "id": "6kaFjnaM8QNX",
        "outputId": "e329eabc-fb52-47dd-f8e8-9a1ae9153c74"
      },
      "execution_count": null,
      "outputs": [
        {
          "output_type": "stream",
          "name": "stdout",
          "text": [
            "(506, 13)\n",
            "(506,)\n",
            "(506, 14)\n"
          ]
        }
      ]
    },
    {
      "cell_type": "code",
      "source": [
        "import sklearn\n",
        "import warnings\n",
        "from sklearn.model_selection import train_test_split\n",
        "warnings.simplefilter(action=\"ignore\",category=FutureWarning)\n",
        "X_train,X_test,Y_train,Y_test=sklearn.model_selection.train_test_split(x,y,test_size=0.33,random_state=5)\n",
        "print(X_train.shape)\n",
        "print(X_test.shape)\n",
        "print(Y_train.shape)\n",
        "print(Y_test.shape)"
      ],
      "metadata": {
        "colab": {
          "base_uri": "https://localhost:8080/"
        },
        "id": "jFTAALRj8VIO",
        "outputId": "9ca5e1bf-622e-4b70-b537-47bc253f1816"
      },
      "execution_count": null,
      "outputs": [
        {
          "output_type": "stream",
          "name": "stdout",
          "text": [
            "(339, 13)\n",
            "(167, 13)\n",
            "(339,)\n",
            "(167,)\n"
          ]
        }
      ]
    },
    {
      "cell_type": "code",
      "source": [
        "from sklearn.linear_model import LinearRegression\n",
        "im=LinearRegression()\n",
        "im.fit(X_train,Y_train)\n",
        "Y_pred=im.predict(X_test)"
      ],
      "metadata": {
        "id": "aOj9gAHP8dLo"
      },
      "execution_count": null,
      "outputs": []
    },
    {
      "cell_type": "code",
      "source": [
        "import numpy as np\n",
        "import matplotlib\n",
        "import matplotlib.pyplot as plt\n",
        "from matplotlib import style\n",
        "plt.figure(figsize=(4,3))\n",
        "plt.scatter(Y_test,Y_pred)\n",
        "plt.xlabel(\"prices:$Y_i$\")\n",
        "plt.ylabel(\"Predicted prices:$\\hat{Y}_i$\")\n",
        "plt.title(\"Prices vs Predicted prices:$Y_i$ vs $\\hat{Y}_i$\")"
      ],
      "metadata": {
        "colab": {
          "base_uri": "https://localhost:8080/",
          "height": 268
        },
        "id": "UhVuVS4U8hlQ",
        "outputId": "e1889727-bcc2-4272-adcb-c8db4a56bdc6"
      },
      "execution_count": null,
      "outputs": [
        {
          "output_type": "execute_result",
          "data": {
            "text/plain": [
              "Text(0.5, 1.0, 'Prices vs Predicted prices:$Y_i$ vs $\\\\hat{Y}_i$')"
            ]
          },
          "metadata": {},
          "execution_count": 23
        },
        {
          "output_type": "display_data",
          "data": {
            "image/png": "[encoded data removed]",
            "text/plain": [
              "<Figure size 288x216 with 1 Axes>"
            ]
          },
          "metadata": {
            "needs_background": "light"
          }
        }
      ]
    },
    {
      "cell_type": "code",
      "source": [
        "mse=sklearn.metrics.mean_squared_error(Y_test,Y_pred)\n",
        "print(mse)"
      ],
      "metadata": {
        "colab": {
          "base_uri": "https://localhost:8080/"
        },
        "id": "5RVbpNvl8lhp",
        "outputId": "0fb4350e-0923-42c8-92ef-10cd52cbcc25"
      },
      "execution_count": null,
      "outputs": [
        {
          "output_type": "stream",
          "name": "stdout",
          "text": [
            "28.530458765974604\n"
          ]
        }
      ]
    },
    {
      "cell_type": "code",
      "source": [
        "plt.figure(figsize=(4,3))\n",
        "plt.hist(boston.target)\n",
        "plt.xlabel('price($1000s)')\n",
        "plt.ylabel('count')\n",
        "plt.tight_layout()"
      ],
      "metadata": {
        "colab": {
          "base_uri": "https://localhost:8080/",
          "height": 225
        },
        "id": "YpQduWw-8pHp",
        "outputId": "cbef276c-950f-4624-f8f5-b936a0ea8a3a"
      },
      "execution_count": null,
      "outputs": [
        {
          "output_type": "display_data",
          "data": {
            "image/png": "[encoded data removed]",
            "text/plain": [
              "<Figure size 288x216 with 1 Axes>"
            ]
          },
          "metadata": {
            "needs_background": "light"
          }
        }
      ]
    }
  ]
}